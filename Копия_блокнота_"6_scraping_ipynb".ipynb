{
  "nbformat": 4,
  "nbformat_minor": 0,
  "metadata": {
    "colab": {
      "provenance": [],
      "include_colab_link": true
    },
    "kernelspec": {
      "name": "python3",
      "display_name": "Python 3"
    },
    "language_info": {
      "name": "python"
    }
  },
  "cells": [
    {
      "cell_type": "markdown",
      "metadata": {
        "id": "view-in-github",
        "colab_type": "text"
      },
      "source": [
        "<a href=\"https://colab.research.google.com/github/anasalek/Pyhton_hw/blob/main/%D0%9A%D0%BE%D0%BF%D0%B8%D1%8F_%D0%B1%D0%BB%D0%BE%D0%BA%D0%BD%D0%BE%D1%82%D0%B0_%226_scraping_ipynb%22.ipynb\" target=\"_parent\"><img src=\"https://colab.research.google.com/assets/colab-badge.svg\" alt=\"Open In Colab\"/></a>"
      ]
    },
    {
      "cell_type": "markdown",
      "source": [
        "**Задание 1**\n",
        "\n",
        "Написать функцию для скрейпинга веб-страниц"
      ],
      "metadata": {
        "id": "vi_saniub3hP"
      }
    },
    {
      "cell_type": "code",
      "source": [
        "'''\n",
        "Импортируйте библиотеки для скрейпинга веб-страниц\n",
        "'''\n",
        "from bs4 import BeautifulSoup\n",
        "import requests"
      ],
      "metadata": {
        "id": "aWlZpSILeLJN"
      },
      "execution_count": 1,
      "outputs": []
    },
    {
      "cell_type": "code",
      "source": [
        "'''\n",
        "Допишите функцию для скрейпинга\n",
        "'''\n",
        "\n",
        "def scrape_text_from_url(url, tag, class_=None):\n",
        "    try:\n",
        "      response = requests.get(url) ### выполните HTML-запрос ###\n",
        "      response.raise_for_status() ### если запрос успешный (возвращается значение 200) ###\n",
        "      soup = BeautifulSoup(response.text, 'html.parser') ### парсим контент или текст с помощью BeautifulSoup html.parser ###\n",
        "# через 'lxml' еще можно))\n",
        "      paragraphs = soup.find_all(tag, class_) # ищем теги и классы на основании аргументов функции; по умолчанию ищем только тег\n",
        "      text = \"cgfd\" ### ваш код здесь: создаем переменную text строкового типа, куда мы запишем все найденные совпадения ###\n",
        "      for p in paragraphs: ### ваш код здесь: начинаем перебор элементов переменной paragraphs ###\n",
        "        text += p.get_text() # извлекаем текстовые данные\n",
        "      return text\n",
        "    except requests.exceptions.HTTPError as http_err:\n",
        "        print(f'HTTP error occurred: {http_err}')\n",
        "    except Exception as err:\n",
        "        print(f'An error occurred: {err}')\n",
        "      ### ваш код здесь: выводим статус-код и сообщение об ошибке ###"
      ],
      "metadata": {
        "id": "AI-6i4LWeL82"
      },
      "execution_count": 179,
      "outputs": []
    },
    {
      "cell_type": "code",
      "source": [
        "'''\n",
        "Проверяем функцию для скрейпинга: пример 1\n",
        "'''\n",
        "\n",
        "scrape_text_from_url('https://en.wikipedia.org/wiki/Chomsky_hierarchy', 'p')"
      ],
      "metadata": {
        "colab": {
          "base_uri": "https://localhost:8080/",
          "height": 176
        },
        "id": "TrKlqhx5fcGB",
        "outputId": "f484e39c-eb09-4005-b78e-e1808f2cb166"
      },
      "execution_count": 180,
      "outputs": [
        {
          "output_type": "execute_result",
          "data": {
            "text/plain": [
              "'cgfdThe Chomsky hierarchy in the fields of formal language theory, computer science, and linguistics, is a containment hierarchy of classes of formal grammars. A formal grammar describes how to form strings from a language\\'s vocabulary (or alphabet) that are valid according to the language\\'s syntax. The linguist Noam Chomsky theorized that four different classes of formal grammars existed that could generate increasingly complex languages. Each class can also completely generate the language of all inferior classes (set inclusive).\\nThe general idea of a hierarchy of grammars was first described by Noam Chomsky in \"Three models for the description of language\" during the formalization of transformational-generative grammar (TGG).[1] Marcel-Paul Schützenberger also played a role in the development of the theory of formal languages; the paper \"The algebraic theory of context free languages\"[2] describes the modern hierarchy, including context-free grammars.[3]\\nIndependently, alongside linguists, mathematicians were developing models of computation (via automata). Parsing a sentence in a language is similar to computation, and the grammars described by Chomsky proved to both resemble and be equivalent in computational power to various machine models.[4]\\nThe following table summarizes each of Chomsky\\'s four types of grammars, the class of language it generates, the type of automaton that recognizes it, and the form its rules must have. The classes are defined by the constraints on the productions rules.\\nNote that the set of grammars corresponding to recursive languages is not a member of this hierarchy; these would be properly between Type-0 and Type-1.\\nEvery regular language is context-free, every context-free language is context-sensitive, every context-sensitive language is recursive and every recursive language is recursively enumerable. These are all proper inclusions, meaning that there exist recursively enumerable languages that are not context-sensitive, context-sensitive languages that are not context-free and context-free languages that are not regular.[7]\\nType-3 grammars generate the regular languages. Such a grammar restricts its rules to a single nonterminal on the left-hand side and a right-hand side consisting of a single terminal, possibly followed by a single nonterminal, in which case the grammar is right regular. Alternatively, all the rules can have their right-hand sides consist of a single terminal, possibly preceded by a single nonterminal (left regular). These generate the same languages. However, if left-regular rules and right-regular rules are combined, the language need no longer be regular. The rule \\n\\n\\n\\nS\\n→\\nε\\n\\n\\n{\\\\displaystyle S\\\\rightarrow \\\\varepsilon }\\n\\n is also allowed here if \\n\\n\\n\\nS\\n\\n\\n{\\\\displaystyle S}\\n\\n does not appear on the right side of any rule. These languages are exactly all languages that can be decided by a finite-state automaton. Additionally, this family of formal languages can be obtained by regular expressions. Regular languages are commonly used to define search patterns and the lexical structure of programming languages.\\nFor example, the regular language \\n\\n\\n\\nL\\n=\\n{\\n\\na\\n\\nn\\n\\n\\n\\n|\\n\\nn\\n>\\n0\\n}\\n\\n\\n{\\\\displaystyle L=\\\\{a^{n}|n>0\\\\}}\\n\\n is generated by the Type-3 grammar \\n\\n\\n\\nG\\n=\\n(\\n{\\nS\\n}\\n,\\n{\\na\\n,\\nb\\n}\\n,\\nP\\n,\\nS\\n)\\n\\n\\n{\\\\displaystyle G=(\\\\{S\\\\},\\\\{a,b\\\\},P,S)}\\n\\n with the productions \\n\\n\\n\\nP\\n\\n\\n{\\\\displaystyle P}\\n\\n being the following.\\nType-2 grammars generate the context-free languages. These are defined by rules of the form \\n\\n\\n\\nA\\n→\\nα\\n\\n\\n{\\\\displaystyle A\\\\rightarrow \\\\alpha }\\n\\n with \\n\\n\\n\\nA\\n\\n\\n{\\\\displaystyle A}\\n\\n being a nonterminal and \\n\\n\\n\\nα\\n\\n\\n{\\\\displaystyle \\\\alpha }\\n\\n being a string of terminals and/or nonterminals. These languages are exactly all languages that can be recognized by a non-deterministic pushdown automaton. Context-free languages—or rather its subset of deterministic context-free languages—are the theoretical basis for the phrase structure of most programming languages, though their syntax also includes context-sensitive name resolution due to declarations and scope. Often a subset of grammars is used to make parsing easier, such as by an LL parser.\\nFor example, the context-free language  \\n\\n\\n\\nL\\n=\\n{\\n\\na\\n\\nn\\n\\n\\n\\nb\\n\\nn\\n\\n\\n\\n|\\n\\nn\\n>\\n0\\n}\\n\\n\\n{\\\\displaystyle L=\\\\{a^{n}b^{n}|n>0\\\\}}\\n\\n is generated by the Type-2 grammar \\n\\n\\n\\nG\\n=\\n(\\n{\\nS\\n}\\n,\\n{\\na\\n,\\nb\\n}\\n,\\nP\\n,\\nS\\n)\\n\\n\\n{\\\\displaystyle G=(\\\\{S\\\\},\\\\{a,b\\\\},P,S)}\\n\\n with the productions \\n\\n\\n\\nP\\n\\n\\n{\\\\displaystyle P}\\n\\n being the following.\\nThe language is context-free but not regular (by the pumping lemma for regular languages).\\nType-1 grammars generate context-sensitive languages. These grammars have rules of the form \\n\\n\\n\\nα\\nA\\nβ\\n→\\nα\\nγ\\nβ\\n\\n\\n{\\\\displaystyle \\\\alpha A\\\\beta \\\\rightarrow \\\\alpha \\\\gamma \\\\beta }\\n\\n with \\n\\n\\n\\nA\\n\\n\\n{\\\\displaystyle A}\\n\\n a nonterminal and \\n\\n\\n\\nα\\n\\n\\n{\\\\displaystyle \\\\alpha }\\n\\n, \\n\\n\\n\\nβ\\n\\n\\n{\\\\displaystyle \\\\beta }\\n\\n and \\n\\n\\n\\nγ\\n\\n\\n{\\\\displaystyle \\\\gamma }\\n\\n strings of terminals and/or nonterminals. The strings \\n\\n\\n\\nα\\n\\n\\n{\\\\displaystyle \\\\alpha }\\n\\n and \\n\\n\\n\\nβ\\n\\n\\n{\\\\displaystyle \\\\beta }\\n\\n may be empty, but \\n\\n\\n\\nγ\\n\\n\\n{\\\\displaystyle \\\\gamma }\\n\\n must be nonempty.  The rule \\n\\n\\n\\nS\\n→\\nϵ\\n\\n\\n{\\\\displaystyle S\\\\rightarrow \\\\epsilon }\\n\\n is allowed if \\n\\n\\n\\nS\\n\\n\\n{\\\\displaystyle S}\\n\\n does not appear on the right side of any rule.  The languages described by these grammars are exactly all languages that can be recognized by a linear bounded automaton (a nondeterministic Turing machine whose tape is bounded by a constant times the length of the input.)\\nFor example, the context-sensitive language  \\n\\n\\n\\nL\\n=\\n{\\n\\na\\n\\nn\\n\\n\\n\\nb\\n\\nn\\n\\n\\n\\nc\\n\\nn\\n\\n\\n\\n|\\n\\nn\\n>\\n0\\n}\\n\\n\\n{\\\\displaystyle L=\\\\{a^{n}b^{n}c^{n}|n>0\\\\}}\\n\\n is generated by the Type-1 grammar \\n\\n\\n\\nG\\n=\\n(\\n{\\nS\\n,\\nA\\n,\\nB\\n,\\nC\\n,\\nW\\n,\\nZ\\n}\\n,\\n{\\na\\n,\\nb\\n}\\n,\\nP\\n,\\nS\\n)\\n\\n\\n{\\\\displaystyle G=(\\\\{S,A,B,C,W,Z\\\\},\\\\{a,b\\\\},P,S)}\\n\\n with the productions \\n\\n\\n\\nP\\n\\n\\n{\\\\displaystyle P}\\n\\n being the following.\\nThe language is context-sensitive but not context-free (by the pumping lemma for context-free languages).\\nA proof that this grammar generates \\n\\n\\n\\nL\\n=\\n{\\n\\na\\n\\nn\\n\\n\\n\\nb\\n\\nn\\n\\n\\n\\nc\\n\\nn\\n\\n\\n\\n|\\n\\nn\\n>\\n0\\n}\\n\\n\\n{\\\\displaystyle L=\\\\{a^{n}b^{n}c^{n}|n>0\\\\}}\\n\\n is sketched in the article on Context-sensitive grammars.\\nType-0 grammars include all formal grammars. There are no constraints on the productions rules. They generate exactly all languages that can be recognized by a Turing machine, thus any language that is possible to be generated can be generated by a Type-0 grammar.[8] These languages are also known as the recursively enumerable or Turing-recognizable languages.[8] Note that this is different from the recursive languages, which can be decided by an always-halting Turing machine.\\n'"
            ],
            "application/vnd.google.colaboratory.intrinsic+json": {
              "type": "string"
            }
          },
          "metadata": {},
          "execution_count": 180
        }
      ]
    },
    {
      "cell_type": "code",
      "source": [
        "'''\n",
        "Проверяем функцию для скрейпинга: пример 2\n",
        "'''\n",
        "# текст вроде по этой ссылке, но будто другой кусок, не как у вас в примере. Это норм?\n",
        "scrape_text_from_url('https://www.rottentomatoes.com/m/civil_war_2024/reviews', 'p', 'review-text')"
      ],
      "metadata": {
        "colab": {
          "base_uri": "https://localhost:8080/",
          "height": 176
        },
        "id": "tz6rp1Gsfi2K",
        "outputId": "03707228-9eec-4a9f-ab72-6f6af5e97578"
      },
      "execution_count": 4,
      "outputs": [
        {
          "output_type": "execute_result",
          "data": {
            "text/plain": [
              "\"cgfdCivil War is not a film about why extreme division happens; it’s about the personal impact of division at its worst.A staggering and frequently brilliant film looking at a hopefully just fictionalized version of America destroying itself from within.Garland seems poised to be make political points, to show how our current political dysfunction could lead to something far worse… but he never follows through.This violent tale of anaesthetised reporters is just a war yarn with a twist.This easy digital fakeness is there to get the audience used to it...Rather than glorifying war, the film is artful and meditative, making us feel the pointlessness of this violence, how unglamorous and exhausting and unheroic it is.It’s not always subtle, and in some cases it’s even frustrating with some of its narrative decisions, but nothing can deny its uncanny ability to leave you horrified by how war, civil or otherwise, can be truly monstrous from any humanist angle.The film isn’t very deep, but it does paint the grimmest picture possible of a divided nation with bodies bodies bodies everywhere.With a career best performance from Kirsten Dunst and a pulsating sound design, Civil War is a thrilling body of work that should be talked about in journalism circles.Garland's decision to forego any narrative antecedent makes the predictable ending that much more of a bummer. Civil War is a more muscular film than Men. Like that movie, however, it mistakes broad brush strokes for insight.Audiences expecting a meticulously-crafted backstory for how this war started and who the players are will be sorely disappointed.This is another war-is-awful movie, tracing the experiences of a team of photojournalists who throw themselves into the firing line. And even without much of a point, it's rivetingly well-made.Garland uses violence as a means to a much larger end that should leave moviegoers disturbed and, at times, sickened; that should leave us challenged to think rather than feeling any kind of welcome catharsis. The final shot ... is stunning in its irony.The film seems caught between wanting to be exciting and devastating, as it threatens to turn its captivating story into another generic shoot-them-up war film, just on a grander scale.Civil War is not a polemic, but it is a mirror to the USA’s political crisis.If beauty is the sole standard for their work, then the film’s view of war photography is as an aesthetic death cult.Garland appears to make movies less for audiences than as think pieces, and, given the esteem in which his films are held, the ploy has paid off handsomely.An urgent film about a barely-distant future.There’s a cautionary message then in the madness: stop or perish; the choice is entirely ours.Civil War is a reflection of what you bring to it. That puts the impetus on the viewer to meet the film on its level. Some won’t like what they find. The nature of that discussion is what will ultimately make this film immortal.\""
            ],
            "application/vnd.google.colaboratory.intrinsic+json": {
              "type": "string"
            }
          },
          "metadata": {},
          "execution_count": 4
        }
      ]
    },
    {
      "cell_type": "markdown",
      "source": [
        "**Задание 2**\n",
        "Написать функцию для сентимент-анализа"
      ],
      "metadata": {
        "id": "4yAvz7QEb8yh"
      }
    },
    {
      "cell_type": "code",
      "source": [
        "'''\n",
        "Загружаем списки слов с положительным и отрицательным значением\n",
        "'''\n",
        "\n",
        "!wget https://raw.githubusercontent.com/vifirsanova/hse-python-course/main/data/neg.txt\n",
        "!wget https://raw.githubusercontent.com/vifirsanova/hse-python-course/main/data/pos.txt\n",
        "\n",
        "with open('neg.txt') as f:\n",
        "  neg = f.read()\n",
        "\n",
        "with open('pos.txt') as f:\n",
        "  pos = f.read()"
      ],
      "metadata": {
        "colab": {
          "base_uri": "https://localhost:8080/"
        },
        "id": "AVqGhbkssw0m",
        "outputId": "f7f0b60e-1c3e-4ed1-e9b4-422b2d4df058"
      },
      "execution_count": 5,
      "outputs": [
        {
          "output_type": "stream",
          "name": "stdout",
          "text": [
            "--2024-12-18 09:18:29--  https://raw.githubusercontent.com/vifirsanova/hse-python-course/main/data/neg.txt\n",
            "Resolving raw.githubusercontent.com (raw.githubusercontent.com)... 185.199.108.133, 185.199.109.133, 185.199.110.133, ...\n",
            "Connecting to raw.githubusercontent.com (raw.githubusercontent.com)|185.199.108.133|:443... connected.\n",
            "HTTP request sent, awaiting response... 200 OK\n",
            "Length: 44759 (44K) [text/plain]\n",
            "Saving to: ‘neg.txt’\n",
            "\n",
            "neg.txt             100%[===================>]  43.71K  --.-KB/s    in 0.02s   \n",
            "\n",
            "2024-12-18 09:18:30 (2.68 MB/s) - ‘neg.txt’ saved [44759/44759]\n",
            "\n",
            "--2024-12-18 09:18:30--  https://raw.githubusercontent.com/vifirsanova/hse-python-course/main/data/pos.txt\n",
            "Resolving raw.githubusercontent.com (raw.githubusercontent.com)... 185.199.108.133, 185.199.109.133, 185.199.110.133, ...\n",
            "Connecting to raw.githubusercontent.com (raw.githubusercontent.com)|185.199.108.133|:443... connected.\n",
            "HTTP request sent, awaiting response... 200 OK\n",
            "Length: 19093 (19K) [text/plain]\n",
            "Saving to: ‘pos.txt’\n",
            "\n",
            "pos.txt             100%[===================>]  18.65K  --.-KB/s    in 0.002s  \n",
            "\n",
            "2024-12-18 09:18:30 (11.2 MB/s) - ‘pos.txt’ saved [19093/19093]\n",
            "\n"
          ]
        }
      ]
    },
    {
      "cell_type": "code",
      "source": [
        "'''\n",
        "Создайте списки слов, разделив строку по знаку \\n\n",
        "'''\n",
        "\n",
        "pos_list, neg_list = pos.split('\\n'), neg.split('\\n')\n",
        "neg_list[:6]"
      ],
      "metadata": {
        "colab": {
          "base_uri": "https://localhost:8080/"
        },
        "id": "vquXeXlDvG_Z",
        "outputId": "1adb9dad-af0c-45fa-e32d-3b2e8132b1b7"
      },
      "execution_count": 126,
      "outputs": [
        {
          "output_type": "execute_result",
          "data": {
            "text/plain": [
              "['2-faced', '2-faces', 'abnormal', 'abolish', 'abominable', 'abominably']"
            ]
          },
          "metadata": {},
          "execution_count": 126
        }
      ]
    },
    {
      "cell_type": "code",
      "source": [
        "'''\n",
        "Допишите функцию для анализа тональности\n",
        "Функция принимает на вход 3 аргумента:\n",
        "  - переменную text с текстов для анализа\n",
        "  - 2 списка со словами для анализа тональности: positive_words и negative_words\n",
        "'''\n",
        "import re\n",
        "import spacy\n",
        "!wget https://raw.githubusercontent.com/vifirsanova/hse-python-course/main/data/stopwords.txt\n",
        "with open ('stopwords.txt', 'r') as f:\n",
        "  sw = f.read()\n",
        "def analyze_sentiment(text, positive_words, negative_words):\n",
        "    cleaned = re.sub(r'[^\\w\\s]', \" \", text)\n",
        "    lowered = cleaned.lower().split() ### Ваш код здесь: приведите текст к нижнему регистру и поделите его на слова ###\n",
        "     ### По желанию: удалить стоп-слова и знаки препинания; использовать NLP-библиотеки для токенизации ###\n",
        "    words = []\n",
        "    for word in lowered:\n",
        "      if word not in sw:\n",
        "        words.append(word) ### Важно: запишите результат в переменную words ###\n",
        "\n",
        "    # Считаем скор тональности: количество пересечений между списками words и положительными / отрицательными словами\n",
        "    positive_count = sum(1 for word in words if word in positive_words)\n",
        "    negative_count = sum(1 for word in words if word in negative_words)\n",
        "\n",
        "    if positive_count > negative_count:\n",
        "      return 'positive' ### Ваш код здесь: если положительный скор больше отрицательного, возвращаем строчку 'positive' ###\n",
        "    elif positive_count < negative_count: ### если отрицательный скор больше положительного, возвращаем строчку 'negative' ###\n",
        "      return 'negative'\n",
        "    else:\n",
        "      return 'neutral' ### Иначе возвращаем строчку 'neutral' ###"
      ],
      "metadata": {
        "id": "oZ7AmEM1vlL4",
        "colab": {
          "base_uri": "https://localhost:8080/"
        },
        "outputId": "e46bb91c-fa04-4147-88e9-eaa0eeb8fb56"
      },
      "execution_count": 142,
      "outputs": [
        {
          "output_type": "stream",
          "name": "stdout",
          "text": [
            "--2024-12-18 17:41:10--  https://raw.githubusercontent.com/vifirsanova/hse-python-course/main/data/stopwords.txt\n",
            "Resolving raw.githubusercontent.com (raw.githubusercontent.com)... 185.199.110.133, 185.199.108.133, 185.199.109.133, ...\n",
            "Connecting to raw.githubusercontent.com (raw.githubusercontent.com)|185.199.110.133|:443... connected.\n",
            "HTTP request sent, awaiting response... 200 OK\n",
            "Length: 954 [text/plain]\n",
            "Saving to: ‘stopwords.txt.23’\n",
            "\n",
            "\rstopwords.txt.23      0%[                    ]       0  --.-KB/s               \rstopwords.txt.23    100%[===================>]     954  --.-KB/s    in 0s      \n",
            "\n",
            "2024-12-18 17:41:11 (48.0 MB/s) - ‘stopwords.txt.23’ saved [954/954]\n",
            "\n"
          ]
        }
      ]
    },
    {
      "cell_type": "code",
      "source": [
        "'''\n",
        "Проверяем функцию для анализа тональности: пример 1\n",
        "'''\n",
        "\n",
        "analyze_sentiment('This sample text is awesome!', pos_list, neg_list)"
      ],
      "metadata": {
        "colab": {
          "base_uri": "https://localhost:8080/",
          "height": 55
        },
        "id": "Y31yIOJ6xXS_",
        "outputId": "bc2e31ac-dcfd-4d6c-96a7-3bca6085f77b"
      },
      "execution_count": 143,
      "outputs": [
        {
          "output_type": "execute_result",
          "data": {
            "text/plain": [
              "'positive'"
            ],
            "application/vnd.google.colaboratory.intrinsic+json": {
              "type": "string"
            }
          },
          "metadata": {},
          "execution_count": 143
        }
      ]
    },
    {
      "cell_type": "code",
      "source": [
        "'''\n",
        "Проверяем функцию для анализа тональности: пример 2\n",
        "'''\n",
        "\n",
        "analyze_sentiment('I hate this sample text.', pos_list, neg_list)"
      ],
      "metadata": {
        "colab": {
          "base_uri": "https://localhost:8080/",
          "height": 55
        },
        "id": "r1ubjl49x1qX",
        "outputId": "7f9e0860-2a95-41c3-cd8f-35324a60af4c"
      },
      "execution_count": 144,
      "outputs": [
        {
          "output_type": "execute_result",
          "data": {
            "text/plain": [
              "'negative'"
            ],
            "application/vnd.google.colaboratory.intrinsic+json": {
              "type": "string"
            }
          },
          "metadata": {},
          "execution_count": 144
        }
      ]
    },
    {
      "cell_type": "code",
      "source": [
        "'''\n",
        "Проверяем функцию для анализа тональности: пример 3\n",
        "'''\n",
        "\n",
        "analyze_sentiment('We love and hate this sample text at the same time!', pos_list, neg_list)"
      ],
      "metadata": {
        "colab": {
          "base_uri": "https://localhost:8080/",
          "height": 55
        },
        "id": "lh7-EgSYx7vb",
        "outputId": "ed2ad6ce-8d84-486e-94e1-63e9d079965b"
      },
      "execution_count": 145,
      "outputs": [
        {
          "output_type": "execute_result",
          "data": {
            "text/plain": [
              "'neutral'"
            ],
            "application/vnd.google.colaboratory.intrinsic+json": {
              "type": "string"
            }
          },
          "metadata": {},
          "execution_count": 145
        }
      ]
    },
    {
      "cell_type": "markdown",
      "source": [
        "**Задача 3**\n",
        "\n",
        "Написать функцию для вывода сентимент-скоров"
      ],
      "metadata": {
        "id": "pQe6yWNicClB"
      }
    },
    {
      "cell_type": "code",
      "source": [
        "\n",
        "'''\n",
        "Допишите функцию для вывода скоров по заданному URL\n",
        "'''\n",
        "\n",
        "def analyze(positive_words, negative_words, url, tag, class_=None):\n",
        "  scraped_text = scrape_text_from_url(url, tag, class_=None) ### примените функцию scrape_text_from_url ###\n",
        "  sentences = scraped_text.split('.') ### сегментируйте текст по предложениям (через точку) ###\n",
        "  sentiments = [] ### создаем пустой список, куда запишем скоры ###\n",
        "  for sentence in sentences: ### начинаем перебор по предложениям ###\n",
        "    sentiments.append(analyze_sentiment(sentence, pos_list, neg_list)) ### ваш код здесь: получаем скор для данного предложения с помощью функции analyze_sentiment ###\n",
        "   ### добавляем скор в созданный список ###\n",
        "  return sentiments ###возвращаем список скоров ###\n",
        "\n",
        "analyze(positive_words=pos_list, negative_words=neg_list, url='https://en.wikipedia.org/wiki/Sputnik_1', tag='p', class_=None)[:10]"
      ],
      "metadata": {
        "colab": {
          "base_uri": "https://localhost:8080/"
        },
        "id": "2t9qMiONyktq",
        "outputId": "f16d0dcb-09ec-43a8-c8b7-f41246cc030f"
      },
      "execution_count": 154,
      "outputs": [
        {
          "output_type": "execute_result",
          "data": {
            "text/plain": [
              "['neutral',\n",
              " 'neutral',\n",
              " 'neutral',\n",
              " 'negative',\n",
              " 'positive',\n",
              " 'neutral',\n",
              " 'positive',\n",
              " 'negative',\n",
              " 'neutral',\n",
              " 'neutral']"
            ]
          },
          "metadata": {},
          "execution_count": 154
        }
      ]
    },
    {
      "cell_type": "code",
      "source": [
        "'''\n",
        "Тест 1\n",
        "'''\n",
        "\n",
        "analyze(url='https://en.wikipedia.org/wiki/Chomsky_hierarchy', tag='p', positive_words=pos, negative_words=neg)[:10]"
      ],
      "metadata": {
        "colab": {
          "base_uri": "https://localhost:8080/"
        },
        "id": "kc2UL_222Mle",
        "outputId": "afd77f3e-7726-4e49-b34a-72ec74e94982"
      },
      "execution_count": 156,
      "outputs": [
        {
          "output_type": "execute_result",
          "data": {
            "text/plain": [
              "['neutral',\n",
              " 'neutral',\n",
              " 'negative',\n",
              " 'negative',\n",
              " 'neutral',\n",
              " 'positive',\n",
              " 'neutral',\n",
              " 'neutral',\n",
              " 'neutral',\n",
              " 'neutral']"
            ]
          },
          "metadata": {},
          "execution_count": 156
        }
      ]
    },
    {
      "cell_type": "code",
      "source": [
        "'''\n",
        "Тест 2\n",
        "'''\n",
        "\n",
        "analyze(url='https://www.rottentomatoes.com/m/civil_war_2024/reviews', tag='p', class_='review-text', positive_words=pos, negative_words=neg)[:10]"
      ],
      "metadata": {
        "colab": {
          "base_uri": "https://localhost:8080/"
        },
        "id": "C9XzHV953Aux",
        "outputId": "25cb8fa9-08f8-499b-9b36-fc0a2363a85b"
      },
      "execution_count": 157,
      "outputs": [
        {
          "output_type": "execute_result",
          "data": {
            "text/plain": [
              "['positive',\n",
              " 'neutral',\n",
              " 'neutral',\n",
              " 'positive',\n",
              " 'positive',\n",
              " 'negative',\n",
              " 'positive',\n",
              " 'neutral',\n",
              " 'neutral',\n",
              " 'neutral']"
            ]
          },
          "metadata": {},
          "execution_count": 157
        }
      ]
    },
    {
      "cell_type": "markdown",
      "source": [
        "**Задача 4**\n",
        "\n",
        "Визуализировать результаты анализа"
      ],
      "metadata": {
        "id": "-IkiyB5ldbt9"
      }
    },
    {
      "cell_type": "code",
      "execution_count": 166,
      "metadata": {
        "colab": {
          "base_uri": "https://localhost:8080/"
        },
        "id": "zqEXVu-VZcUG",
        "outputId": "f542e838-a035-4660-e2cd-8951334d5e24"
      },
      "outputs": [
        {
          "output_type": "stream",
          "name": "stdout",
          "text": [
            "Counter({'neutral': 189, 'positive': 55, 'negative': 41})\n",
            "Counter({'positive': 11, 'neutral': 11, 'negative': 3})\n"
          ]
        }
      ],
      "source": [
        "'''\n",
        "Создаем частотный словарь с помощью библиотеки Counter.\n",
        "Можно выбрать другие веб-страницы для анализа!\n",
        "'''\n",
        "\n",
        "from collections import Counter\n",
        "\n",
        "sample1 = Counter(analyze(url='https://en.wikipedia.org/wiki/Sputnik_1', tag='p', positive_words=pos, negative_words=neg))\n",
        "sample2 = Counter(analyze(url='https://www.rottentomatoes.com/m/civil_war_2024/reviews', tag='p', class_='review-text', positive_words=pos, negative_words=neg))\n",
        "sample3 = Counter(analyze(url='https://www.republicworld.com/entertainment/hollywood/britney-spears-fans-believe-she-signaled-for-help-again-by-wearing-a', tag='p', class_=None, positive_words=pos, negative_words=neg))\n",
        "print(sample1)\n",
        "print(sample3)"
      ]
    },
    {
      "cell_type": "code",
      "source": [
        "'''\n",
        "Создаем визуализацию: попробуйте использование новые данные (данные других url)\n",
        "'''\n",
        "\n",
        "import numpy as np\n",
        "import pandas as pd\n",
        "import matplotlib.pyplot as plt\n",
        "\n",
        "df1 = pd.DataFrame.from_dict(sample1, orient='index', columns=['Wikipedia'])\n",
        "df2 = pd.DataFrame.from_dict(sample2, orient='index', columns=['Rotten'])\n",
        "df3 = pd.DataFrame.from_dict(sample3, orient='index', columns=['Republic'])\n",
        "fig, ax = plt.subplots(ncols=3)\n",
        "\n",
        "ax[0] = df1.plot.bar(ax=ax[0], color='navy')\n",
        "ax[1] = df2.plot.bar(ax=ax[1], color='maroon')\n",
        "ax[2] = df3.plot.bar(ax=ax[2], color='violet')\n",
        "# третий это мой))"
      ],
      "metadata": {
        "colab": {
          "base_uri": "https://localhost:8080/",
          "height": 497
        },
        "id": "1BIF0uT84bKN",
        "outputId": "c54ab1ca-895c-4a64-d1df-714b64bb4e63"
      },
      "execution_count": 174,
      "outputs": [
        {
          "output_type": "display_data",
          "data": {
            "text/plain": [
              "<Figure size 640x480 with 3 Axes>"
            ],
            "image/png": "[encoded data removed]"
          },
          "metadata": {}
        }
      ]
    },
    {
      "cell_type": "markdown",
      "source": [
        "**Задача 5**\n",
        "\n",
        "Соберите все 3 функции в одной ячейке ниже. Проанализируйте получшившийся код. Сделайте ревью!\n",
        "\n",
        "Попробуйте сделать **рефакторинг**: найти повторы в коде, избыточные конструкции и заменить их на более простые и питоничные решения. Рефакторинг ускоряет выполнение кода и упрощает его чтение.\n",
        "\n",
        "Улучшите код, добавьте строчки для вывода промежуточных и итоговых результатов; запустите ячейку.\n",
        "\n",
        "Это творческое задание, правильных решений нет - главное, чтобы код работал! :)\n",
        "\n",
        "Не забудьте закомментировать свои изменения."
      ],
      "metadata": {
        "id": "Y2SS-kAkcZcW"
      }
    },
    {
      "cell_type": "code",
      "source": [
        "from bs4 import BeautifulSoup\n",
        "import requests\n",
        "\n",
        "def scrape_text_from_url(url, tag, class_=None):\n",
        "  '''\n",
        "  скрейпинг\n",
        "  '''\n",
        "  try:\n",
        "    response = requests.get(url)\n",
        "    response.raise_for_status()\n",
        "    soup = BeautifulSoup(response.text, 'html.parser')\n",
        "    paragraphs = soup.find_all(tag, class_)\n",
        "# записала создание переменной text, перебор и извлечение текстовых данных в одну переменную:\n",
        "    text = ''.join(p.get_text() for p in paragraphs)\n",
        "    return text\n",
        "  except requests.exceptions.HTTPError as http_err:\n",
        "        print(f'HTTP error occurred: {http_err}')\n",
        "  except Exception as err:\n",
        "        print(f'An error occurred: {err}')\n",
        "# проверка скрейпинга:\n",
        "#scrape_text_from_url(url='https://www.madamefaction.com/kim-kardashian-wearing-marilyn-monroes-dress/', tag='p', class_=None)\n",
        "'''\n",
        "Загружаем списки слов с положительным и отрицательным значением\n",
        "'''\n",
        "\n",
        "!wget https://raw.githubusercontent.com/vifirsanova/hse-python-course/main/data/neg.txt\n",
        "!wget https://raw.githubusercontent.com/vifirsanova/hse-python-course/main/data/pos.txt\n",
        "\n",
        "with open('neg.txt') as f:\n",
        "  neg = f.read()\n",
        "with open('pos.txt') as f:\n",
        "  pos = f.read()\n",
        "\n",
        "pos_list, neg_list = pos.split('\\n'), neg.split('\\n')\n",
        "\n",
        "import re\n",
        "import spacy\n",
        "\n",
        "!wget https://raw.githubusercontent.com/vifirsanova/hse-python-course/main/data/stopwords.txt\n",
        "\n",
        "with open ('stopwords.txt', 'r') as f:\n",
        "    sw = f.read()\n",
        "\n",
        "def analyze_sentiment(text, positive_words, negative_words):\n",
        "     cleaned = re.sub(r'[^\\w\\s]', \" \", text)\n",
        "     lowered = cleaned.lower().split()\n",
        "     words = [word for word in lowered if word not in sw]\n",
        "\n",
        "     positive_count = sum(1 for word in words if word in positive_words)\n",
        "     negative_count = sum(1 for word in words if word in negative_words)\n",
        "# здесь записала в одну строчку вместо 6:\n",
        "     return 'positive' if positive_count > negative_count else 'negative' if positive_count < negative_count else 'neutral'\n",
        "#  проверка работы:\n",
        "# analyze_sentiment('This film is so cool', positive_words=pos, negative_words=neg)\n",
        "\n",
        "def analyze(positive_words, negative_words, url, tag, class_=None):\n",
        "    scraped_text = scrape_text_from_url(url, tag, class_=None).split('.') # здесь объединила scrape и split\n",
        "# здесь List comprehension\n",
        "    sentiments = [analyze_sentiment(sentence, pos_list, neg_list) for sentence in scraped_text]\n",
        "    return sentiments\n",
        "\n",
        "analyze(url='https://www.rottentomatoes.com/m/civil_war_2024/reviews', tag='p', class_='review-text', positive_words=pos, negative_words=neg)[:10]"
      ],
      "metadata": {
        "id": "mU0kfLfvbq0-",
        "colab": {
          "base_uri": "https://localhost:8080/"
        },
        "outputId": "865b1a12-5b40-4c07-ab19-73d2ecdf2998"
      },
      "execution_count": 7,
      "outputs": [
        {
          "output_type": "stream",
          "name": "stdout",
          "text": [
            "--2024-12-18 22:05:49--  https://raw.githubusercontent.com/vifirsanova/hse-python-course/main/data/neg.txt\n",
            "Resolving raw.githubusercontent.com (raw.githubusercontent.com)... 185.199.108.133, 185.199.109.133, 185.199.110.133, ...\n",
            "Connecting to raw.githubusercontent.com (raw.githubusercontent.com)|185.199.108.133|:443... connected.\n",
            "HTTP request sent, awaiting response... 200 OK\n",
            "Length: 44759 (44K) [text/plain]\n",
            "Saving to: ‘neg.txt.1’\n",
            "\n",
            "\rneg.txt.1             0%[                    ]       0  --.-KB/s               \rneg.txt.1           100%[===================>]  43.71K  --.-KB/s    in 0.01s   \n",
            "\n",
            "2024-12-18 22:05:49 (3.43 MB/s) - ‘neg.txt.1’ saved [44759/44759]\n",
            "\n",
            "--2024-12-18 22:05:49--  https://raw.githubusercontent.com/vifirsanova/hse-python-course/main/data/pos.txt\n",
            "Resolving raw.githubusercontent.com (raw.githubusercontent.com)... 185.199.108.133, 185.199.109.133, 185.199.110.133, ...\n",
            "Connecting to raw.githubusercontent.com (raw.githubusercontent.com)|185.199.108.133|:443... connected.\n",
            "HTTP request sent, awaiting response... 200 OK\n",
            "Length: 19093 (19K) [text/plain]\n",
            "Saving to: ‘pos.txt.1’\n",
            "\n",
            "pos.txt.1           100%[===================>]  18.65K  --.-KB/s    in 0.001s  \n",
            "\n",
            "2024-12-18 22:05:49 (15.0 MB/s) - ‘pos.txt.1’ saved [19093/19093]\n",
            "\n",
            "--2024-12-18 22:05:49--  https://raw.githubusercontent.com/vifirsanova/hse-python-course/main/data/stopwords.txt\n",
            "Resolving raw.githubusercontent.com (raw.githubusercontent.com)... 185.199.111.133, 185.199.109.133, 185.199.108.133, ...\n",
            "Connecting to raw.githubusercontent.com (raw.githubusercontent.com)|185.199.111.133|:443... connected.\n",
            "HTTP request sent, awaiting response... 200 OK\n",
            "Length: 954 [text/plain]\n",
            "Saving to: ‘stopwords.txt.1’\n",
            "\n",
            "stopwords.txt.1     100%[===================>]     954  --.-KB/s    in 0s      \n",
            "\n",
            "2024-12-18 22:05:49 (48.9 MB/s) - ‘stopwords.txt.1’ saved [954/954]\n",
            "\n"
          ]
        },
        {
          "output_type": "execute_result",
          "data": {
            "text/plain": [
              "['positive',\n",
              " 'neutral',\n",
              " 'neutral',\n",
              " 'positive',\n",
              " 'positive',\n",
              " 'negative',\n",
              " 'positive',\n",
              " 'neutral',\n",
              " 'neutral',\n",
              " 'neutral']"
            ]
          },
          "metadata": {},
          "execution_count": 7
        }
      ]
    }
  ]
}